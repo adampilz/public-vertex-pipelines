{
 "cells": [
  {
   "cell_type": "code",
   "execution_count": null,
   "id": "4836951e-193d-42e8-b96d-6983496b6203",
   "metadata": {},
   "outputs": [],
   "source": [
    "#####################################################################\n",
    "#\n",
    "# setup\n",
    "#\n",
    "#####################################################################"
   ]
  },
  {
   "cell_type": "code",
   "execution_count": 2,
   "id": "829edf93-63ea-4db6-b36f-d0374b24e4a1",
   "metadata": {},
   "outputs": [],
   "source": [
    "# imports for this notebook to run\n",
    "from google.cloud import aiplatform as vertex\n",
    "\n",
    "import kfp\n",
    "from kfp.v2 import dsl, compiler\n",
    "from kfp.v2.dsl import (Artifact, Dataset, Input, InputPath, Model, Output, OutputPath, component)"
   ]
  },
  {
   "cell_type": "code",
   "execution_count": 10,
   "id": "b359d323-e636-40a9-a4e3-efb62985b92b",
   "metadata": {},
   "outputs": [],
   "source": [
    "# specify parameters\n",
    "PROJECT_ID = \"your-project-id\"\n",
    "REGION = \"us-central1\"\n",
    "BUCKET_NAME = f\"bkt-{PROJECT_ID}-vpipelines\"\n",
    "BUCKET_PATH = f\"gs://{BUCKET_NAME}\"\n",
    "PIPELINE_ROOT = f\"{BUCKET_PATH}/pipeline_root\"\n",
    "PIPELINE_DATA = f\"{BUCKET_PATH}/data\""
   ]
  },
  {
   "cell_type": "code",
   "execution_count": null,
   "id": "7349b68d-e46c-4740-b63c-9f595bc5558b",
   "metadata": {},
   "outputs": [],
   "source": [
    "#####################################################################\n",
    "# BEGIN vertex pipelines\n",
    "#####################################################################"
   ]
  },
  {
   "cell_type": "code",
   "execution_count": null,
   "id": "0ac0cb9b-0664-4778-81a3-d563b88f3db7",
   "metadata": {},
   "outputs": [],
   "source": [
    "#####################################################################\n",
    "#\n",
    "# create individual pipeline components, then specify the pipeline\n",
    "#\n",
    "#####################################################################"
   ]
  },
  {
   "cell_type": "code",
   "execution_count": 11,
   "id": "91449fad-c842-4f08-9b52-520726694452",
   "metadata": {},
   "outputs": [],
   "source": [
    "# create a pipeline component\n",
    "@component(base_image=\"python:3.9\", output_component_file=\"step_1.yaml\")\n",
    "def step_1():    \n",
    "    print(\"hello world\")"
   ]
  },
  {
   "cell_type": "code",
   "execution_count": 12,
   "id": "c3e3526f-6add-4485-ab54-9d98f43b52f3",
   "metadata": {},
   "outputs": [],
   "source": [
    "# define a pipeline\n",
    "@dsl.pipeline(name=\"my-pipeline-name\", description=\"my pipeline description\")\n",
    "def my_pipeline(project_id: str = PROJECT_ID):    \n",
    "    # specify the nodes in the pipeline\n",
    "    step_1_task = step_1()"
   ]
  },
  {
   "cell_type": "code",
   "execution_count": null,
   "id": "9cd8a46c-2fbf-495e-b25b-722586d5dbec",
   "metadata": {},
   "outputs": [],
   "source": [
    "#####################################################################\n",
    "#\n",
    "# compile and run the pipeline\n",
    "#\n",
    "#####################################################################"
   ]
  },
  {
   "cell_type": "code",
   "execution_count": 13,
   "id": "41dc81cd-bb4a-48d4-a63b-1a7427bcbf04",
   "metadata": {},
   "outputs": [],
   "source": [
    "# compile the pipeline\n",
    "my_package_path = 'my_vertex_pipeline_specification_file.json'\n",
    "compiler.Compiler().compile(pipeline_func=my_pipeline, package_path=my_package_path)"
   ]
  },
  {
   "cell_type": "code",
   "execution_count": null,
   "id": "806cee43-c44e-4254-9316-bccb245b7e2d",
   "metadata": {},
   "outputs": [],
   "source": [
    "# run the pipeline\n",
    "vertex.init(project=PROJECT_ID)\n",
    "\n",
    "job = vertex.PipelineJob(\n",
    "    display_name = \"my-pipeline-job-name\",\n",
    "    template_path = my_package_path,\n",
    "    pipeline_root = PIPELINE_ROOT,\n",
    "    enable_caching = False\n",
    ")\n",
    "\n",
    "job.submit()"
   ]
  }
 ],
 "metadata": {
  "environment": {
   "kernel": "python3",
   "name": "common-cpu.m97",
   "type": "gcloud",
   "uri": "gcr.io/deeplearning-platform-release/base-cpu:m97"
  },
  "kernelspec": {
   "display_name": "Python 3",
   "language": "python",
   "name": "python3"
  },
  "language_info": {
   "codemirror_mode": {
    "name": "ipython",
    "version": 3
   },
   "file_extension": ".py",
   "mimetype": "text/x-python",
   "name": "python",
   "nbconvert_exporter": "python",
   "pygments_lexer": "ipython3",
   "version": "3.7.12"
  }
 },
 "nbformat": 4,
 "nbformat_minor": 5
}
