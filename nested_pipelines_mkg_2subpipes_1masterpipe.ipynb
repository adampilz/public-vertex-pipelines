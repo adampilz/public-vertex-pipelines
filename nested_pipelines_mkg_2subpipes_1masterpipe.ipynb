{
 "cells": [
  {
   "cell_type": "code",
   "execution_count": null,
   "id": "174852e1-b09f-4a94-a386-c3e1d78abce6",
   "metadata": {},
   "outputs": [],
   "source": []
  },
  {
   "cell_type": "code",
   "execution_count": 1,
   "id": "b618eed6-90e4-4a0d-be45-62969e316874",
   "metadata": {},
   "outputs": [],
   "source": [
    "# imports for this notebook to run\n",
    "import sys\n",
    "from datetime import datetime\n",
    "from typing import NamedTuple\n",
    "\n",
    "from google.cloud import aiplatform as vertex\n",
    "\n",
    "import kfp\n",
    "from kfp.v2 import dsl, compiler"
   ]
  },
  {
   "cell_type": "code",
   "execution_count": 2,
   "id": "58901625-5bfe-4a71-a228-a7bb87efd5e2",
   "metadata": {},
   "outputs": [],
   "source": [
    "# specify parameters\n",
    "P = ! gcloud config list --format 'value(core.project)'\n",
    "PROJECT_ID = P[0]\n",
    "P = ! gcloud projects list --filter=\"$(gcloud config get-value project)\" --format=\"value(PROJECT_NUMBER)\"\n",
    "PROJECT_NUMBER = P[0]\n",
    "REGION = \"us-central1\"\n",
    "SERVICE_ACCOUNT = f\"sa-vertex-pipelines@{PROJECT_ID}.iam.gserviceaccount.com\"\n",
    "\n",
    "# exercise details\n",
    "USE_CASE = \"nestedpipelines\"\n",
    "ML_FRAMEWORK = \"noml\"\n",
    "MODEL_TYPE = \"nomodel\"\n",
    "TIMESTAMP = datetime.now().strftime(\"%Y%m%d%H%M%S\")\n",
    "\n",
    "#-------------------\n",
    "# vertex pipeline\n",
    "#-------------------\n",
    "\n",
    "GCS_BUCKET_NAME = f\"bkt-{REGION}-{USE_CASE.lower()}\"\n",
    "GCS_BUCKET_PATH = f\"gs://{GCS_BUCKET_NAME}\"\n",
    "PIPELINE_ROOT_NAME = f\"{GCS_BUCKET_NAME}/pipeline_root\"\n",
    "PIPELINE_ROOT_PATH = f\"{GCS_BUCKET_PATH}/pipeline_root\"\n",
    "\n",
    "#-------------------\n",
    "# GCS source data\n",
    "#-------------------\n",
    "\n",
    "# master source data bucket\n",
    "GCS_DATA_SOURCE_BUCKET_NAME = f\"bkt-{REGION}-data\"\n",
    "GCS_DATA_SOURCE_BUCKET_PATH = f\"gs://{GCS_DATA_SOURCE_BUCKET_NAME}\"\n",
    "\n",
    "# training data table\n",
    "TABLE_TRAIN = \"tab_class_10inps_1krows_tes_3498.csv\"\n",
    "GCS_TRAIN_URI = f\"{GCS_DATA_SOURCE_BUCKET_PATH}/{TABLE_TRAIN}\""
   ]
  },
  {
   "cell_type": "code",
   "execution_count": null,
   "id": "7df9618d-0b73-40dc-a82d-5628810ad60c",
   "metadata": {},
   "outputs": [],
   "source": [
    "# create use case gcs bucket if needed\n",
    "! gsutil mb -p {PROJECT_ID} -c standard -l {REGION} {GCS_BUCKET_PATH}\n",
    "! gsutil ls -L -b {GCS_BUCKET_PATH}"
   ]
  },
  {
   "cell_type": "markdown",
   "id": "c7d3ae9c-d6a8-4f75-962d-3742585eb798",
   "metadata": {},
   "source": [
    "# Inner Pipelines"
   ]
  },
  {
   "cell_type": "code",
   "execution_count": null,
   "id": "e5ba8786-57c0-4821-9c4d-6731b788765d",
   "metadata": {},
   "outputs": [],
   "source": [
    "#-------------------\n",
    "# import data\n",
    "#-------------------"
   ]
  },
  {
   "cell_type": "code",
   "execution_count": 9,
   "id": "28f46048-10e0-4fc0-b587-05c837c5d349",
   "metadata": {},
   "outputs": [],
   "source": [
    "@dsl.pipeline(name='inner-pipeline-1')\n",
    "def import_data_pipeline(gcs_train_uri: str):\n",
    "    dataset_task = dsl.importer(\n",
    "        artifact_uri = gcs_train_uri,\n",
    "        artifact_class = dsl.Dataset,\n",
    "        reimport=True\n",
    "    )    \n",
    "    return dataset_task"
   ]
  },
  {
   "cell_type": "code",
   "execution_count": 10,
   "id": "c1c728e2-7e7e-4d59-a100-83ccdbd0e10a",
   "metadata": {},
   "outputs": [],
   "source": [
    "#-------------------\n",
    "# handle data\n",
    "#-------------------"
   ]
  },
  {
   "cell_type": "code",
   "execution_count": 11,
   "id": "8a390b32-6bbb-4847-abd9-d7c1a4213f7e",
   "metadata": {},
   "outputs": [],
   "source": [
    "# function\n",
    "@dsl.component\n",
    "def handle_data_function(\n",
    "    dataset: dsl.Input[dsl.Dataset]\n",
    ") -> str:\n",
    "    # do anything here\n",
    "    return dataset.path"
   ]
  },
  {
   "cell_type": "code",
   "execution_count": 12,
   "id": "eda186ef-0bda-4ff9-99d4-c41364ab8f9d",
   "metadata": {},
   "outputs": [],
   "source": [
    "# pipeline\n",
    "@dsl.pipeline(name='inner-pipeline-2')\n",
    "def handle_data_pipeline(\n",
    "    dataset: dsl.Input[dsl.Dataset]\n",
    "):\n",
    "    task = handle_data_function(dataset.output)\n",
    "    return task.output"
   ]
  },
  {
   "cell_type": "markdown",
   "id": "1828f0f0-e1b7-4164-b20a-34034154c18a",
   "metadata": {},
   "source": [
    "# Outer pipeline"
   ]
  },
  {
   "cell_type": "code",
   "execution_count": 18,
   "id": "22054923-3329-47a3-a860-f0af7e684059",
   "metadata": {},
   "outputs": [],
   "source": [
    "# master pipeline\n",
    "@dsl.pipeline(name='outer-pipeline')\n",
    "def master_pipeline(gcs_train_uri: str):\n",
    "    task_1 = import_data_pipeline(gcs_train_uri)\n",
    "    task_2 = handle_data_pipeline(task_1.output)\n",
    "    return task_2"
   ]
  },
  {
   "cell_type": "code",
   "execution_count": 19,
   "id": "47959732-e4a5-47dd-a248-f93310e5f8aa",
   "metadata": {},
   "outputs": [],
   "source": [
    "# compile the pipeline\n",
    "my_package_path = 'my_vertex_pipeline_specification_file.json'\n",
    "compiler.Compiler().compile(pipeline_func=master_pipeline, package_path=my_package_path)"
   ]
  },
  {
   "cell_type": "code",
   "execution_count": 20,
   "id": "9a1eb037-edbb-4a52-b413-c08624c353e7",
   "metadata": {},
   "outputs": [],
   "source": [
    "#####################################################################\n",
    "#\n",
    "# compile and run the pipeline\n",
    "#\n",
    "#####################################################################"
   ]
  },
  {
   "cell_type": "code",
   "execution_count": null,
   "id": "35f76713-48a0-4e23-88ac-e5229719b7b6",
   "metadata": {},
   "outputs": [],
   "source": [
    "# runtime parameters to pass to pipeline\n",
    "pipeline_params = { \"gcs_train_uri\" : GCS_TRAIN_URI\n",
    "                  }\n",
    "\n",
    "# run the pipeline\n",
    "vertex.init(project=PROJECT_ID)\n",
    "\n",
    "job = vertex.PipelineJob(\n",
    "    display_name = \"my-pipeline-job-name\",\n",
    "    template_path = my_package_path,\n",
    "    pipeline_root = PIPELINE_ROOT_PATH,\n",
    "    parameter_values = pipeline_params,\n",
    "    enable_caching = False\n",
    ")\n",
    "\n",
    "job.submit(service_account = f\"sa-vertex-pipelines@{PROJECT_ID}.iam.gserviceaccount.com\")"
   ]
  },
  {
   "cell_type": "code",
   "execution_count": null,
   "id": "84ed8120-f5b0-4806-a934-788669bfc3cb",
   "metadata": {},
   "outputs": [],
   "source": []
  }
 ],
 "metadata": {
  "environment": {
   "kernel": "python3",
   "name": "common-cpu.m102",
   "type": "gcloud",
   "uri": "gcr.io/deeplearning-platform-release/base-cpu:m102"
  },
  "kernelspec": {
   "display_name": "Python 3",
   "language": "python",
   "name": "python3"
  },
  "language_info": {
   "codemirror_mode": {
    "name": "ipython",
    "version": 3
   },
   "file_extension": ".py",
   "mimetype": "text/x-python",
   "name": "python",
   "nbconvert_exporter": "python",
   "pygments_lexer": "ipython3",
   "version": "3.7.12"
  }
 },
 "nbformat": 4,
 "nbformat_minor": 5
}
