{
 "cells": [
  {
   "cell_type": "code",
   "execution_count": null,
   "id": "215ed5c0-7044-4cc4-9187-cae20a13d088",
   "metadata": {},
   "outputs": [],
   "source": [
    "#####################################################################\n",
    "#\n",
    "# setup\n",
    "#\n",
    "#####################################################################"
   ]
  },
  {
   "cell_type": "code",
   "execution_count": null,
   "id": "de900673-1273-4747-afec-eba2baa6640c",
   "metadata": {},
   "outputs": [],
   "source": [
    "# imports for this notebook to run\n",
    "import sys\n",
    "from datetime import datetime\n",
    "from typing import NamedTuple\n",
    "\n",
    "from google.cloud import aiplatform as vertex\n",
    "from google_cloud_pipeline_components.experimental import vertex_notification_email as gcc_exp\n",
    "\n",
    "import kfp\n",
    "from kfp.v2 import dsl, compiler\n",
    "from kfp.v2.dsl import (Artifact, Dataset, Input, InputPath, Model, Output, OutputPath, component)"
   ]
  },
  {
   "cell_type": "code",
   "execution_count": 35,
   "id": "392a9ce3-aae2-45aa-ac64-38d8ab39448f",
   "metadata": {},
   "outputs": [],
   "source": [
    "# specify parameters\n",
    "PROJECT_ID = \"your-project-id\"\n",
    "REGION = \"us-central1\"\n",
    "BUCKET_NAME = f\"bkt-{PROJECT_ID}-vpipelines\"\n",
    "BUCKET_PATH = f\"gs://{BUCKET_NAME}\"\n",
    "PIPELINE_ROOT = f\"{BUCKET_PATH}/pipeline_root\"\n",
    "PIPELINE_DATA = f\"{BUCKET_PATH}/data\"\n",
    "TIMESTAMP = datetime.now().strftime(\"%Y%m%d%H%M%S\")"
   ]
  },
  {
   "cell_type": "code",
   "execution_count": null,
   "id": "7349b68d-e46c-4740-b63c-9f595bc5558b",
   "metadata": {},
   "outputs": [],
   "source": [
    "#####################################################################\n",
    "# BEGIN vertex pipelines\n",
    "#####################################################################"
   ]
  },
  {
   "cell_type": "code",
   "execution_count": null,
   "id": "0ac0cb9b-0664-4778-81a3-d563b88f3db7",
   "metadata": {},
   "outputs": [],
   "source": [
    "#####################################################################\n",
    "#\n",
    "# create individual pipeline components, then specify the pipeline\n",
    "#\n",
    "#####################################################################"
   ]
  },
  {
   "cell_type": "code",
   "execution_count": 46,
   "id": "0132181a-ac1f-440c-a8c8-d26d3a88e951",
   "metadata": {},
   "outputs": [],
   "source": [
    "# component producing only one output\n",
    "@component(base_image=\"python:3.9\", output_component_file=\"component_one_output.yaml\")\n",
    "# specify inputs, outputs, and component functionality\n",
    "def one_output(text: str) -> str:\n",
    "    print(text)\n",
    "    return text"
   ]
  },
  {
   "cell_type": "code",
   "execution_count": 47,
   "id": "6a92081c-b0fc-4caf-99af-95706ede3c2f",
   "metadata": {},
   "outputs": [],
   "source": [
    "# component producing multiple outputs\n",
    "@component(base_image=\"python:3.9\", output_component_file=\"component_two_outputs.yaml\")\n",
    "# specify inputs, outputs, and component functionality\n",
    "def two_outputs(\n",
    "    text: str, # inputs and their expected types\n",
    "    ) -> NamedTuple(\n",
    "    \"Outputs\",\n",
    "    [\n",
    "        (\"output_one\", str),  # outputs and their expected types\n",
    "        (\"output_two\", str),\n",
    "    ],\n",
    "    ):\n",
    "    # component functionality\n",
    "    o1 = f\"output one from text: {text}\"\n",
    "    o2 = f\"output two from text: {text}\"\n",
    "    return (o1, o2)"
   ]
  },
  {
   "cell_type": "code",
   "execution_count": 48,
   "id": "4de20fd4-3718-411a-946d-c5ab8b2c7d2e",
   "metadata": {},
   "outputs": [],
   "source": [
    "# consume outputs from other components as inputs to this component\n",
    "@component(base_image=\"python:3.9\", output_component_file=\"component_consumer.yaml\")\n",
    "def consumer(text1: str, text2: str, text3: str):\n",
    "    print(f\"text1: {text1}; text2: {text2}; text3: {text3}\")"
   ]
  },
  {
   "cell_type": "code",
   "execution_count": 49,
   "id": "c3e3526f-6add-4485-ab54-9d98f43b52f3",
   "metadata": {},
   "outputs": [],
   "source": [
    "# define a pipeline\n",
    "@dsl.pipeline(name=\"my-pipeline-name\", description=\"my pipeline description\")\n",
    "\n",
    "# specify all the inputs the pipeline needs to run\n",
    "def my_pipeline(text: str\n",
    "                , project_id: str = PROJECT_ID):\n",
    "    \n",
    "    # notification recipients\n",
    "    RECIPIENTS_LIST = [\"your-email@your-domain.com\"]\n",
    "    notify_email_task = gcc_exp.VertexNotificationEmailOp(recipients=RECIPIENTS_LIST)\n",
    "    \n",
    "    # when pipeline exits, send status notification\n",
    "    with dsl.ExitHandler(notify_email_task):\n",
    "        \n",
    "        # specify the nodes in the pipeline\n",
    "        one_output_task = one_output(text)\n",
    "        two_outputs_task = two_outputs(text)\n",
    "        consumer_task = consumer(\n",
    "            # notice the difference in accessing items\n",
    "            one_output_task.output,\n",
    "            two_outputs_task.outputs[\"output_one\"],\n",
    "            two_outputs_task.outputs[\"output_two\"],\n",
    "        )"
   ]
  },
  {
   "cell_type": "code",
   "execution_count": null,
   "id": "9cd8a46c-2fbf-495e-b25b-722586d5dbec",
   "metadata": {},
   "outputs": [],
   "source": [
    "#####################################################################\n",
    "#\n",
    "# compile and run the pipeline\n",
    "#\n",
    "#####################################################################"
   ]
  },
  {
   "cell_type": "code",
   "execution_count": 50,
   "id": "41dc81cd-bb4a-48d4-a63b-1a7427bcbf04",
   "metadata": {},
   "outputs": [],
   "source": [
    "# compile the pipeline\n",
    "my_package_path = 'my_vertex_pipeline_specification_file.json'\n",
    "compiler.Compiler().compile(pipeline_func=my_pipeline, package_path=my_package_path)"
   ]
  },
  {
   "cell_type": "code",
   "execution_count": null,
   "id": "806cee43-c44e-4254-9316-bccb245b7e2d",
   "metadata": {},
   "outputs": [],
   "source": [
    "# runtime parameters to pass to pipeline\n",
    "pipeline_params = {\n",
    "    \"project_id\": PROJECT_ID,\n",
    "    \"text\": \"hello\"\n",
    "}\n",
    "\n",
    "# run the pipeline\n",
    "vertex.init(project=PROJECT_ID)\n",
    "\n",
    "job = vertex.PipelineJob(\n",
    "    display_name = \"my-pipeline-job-name\",\n",
    "    template_path = my_package_path,\n",
    "    pipeline_root = PIPELINE_ROOT,\n",
    "    parameter_values = pipeline_params,\n",
    "    enable_caching = False\n",
    ")\n",
    "\n",
    "job.run()"
   ]
  }
 ],
 "metadata": {
  "environment": {
   "kernel": "python3",
   "name": "common-cpu.m97",
   "type": "gcloud",
   "uri": "gcr.io/deeplearning-platform-release/base-cpu:m97"
  },
  "kernelspec": {
   "display_name": "Python 3",
   "language": "python",
   "name": "python3"
  },
  "language_info": {
   "codemirror_mode": {
    "name": "ipython",
    "version": 3
   },
   "file_extension": ".py",
   "mimetype": "text/x-python",
   "name": "python",
   "nbconvert_exporter": "python",
   "pygments_lexer": "ipython3",
   "version": "3.7.12"
  }
 },
 "nbformat": 4,
 "nbformat_minor": 5
}
