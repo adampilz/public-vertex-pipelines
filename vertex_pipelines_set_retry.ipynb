{
 "cells": [
  {
   "cell_type": "code",
   "execution_count": null,
   "id": "4e924fd8-2e4d-4177-9861-f3c0deab5011",
   "metadata": {},
   "outputs": [],
   "source": [
    "# install\n",
    "! pip3 install --user --upgrade kfp==1.8.13 --quiet"
   ]
  },
  {
   "cell_type": "code",
   "execution_count": null,
   "id": "fa472d95-14cd-4cbe-a27b-cd6a3eb49939",
   "metadata": {},
   "outputs": [],
   "source": [
    "! python3 -c \"import kfp; print('KFP SDK version: {}'.format(kfp.__version__))\""
   ]
  },
  {
   "cell_type": "code",
   "execution_count": null,
   "id": "89ca3139-d781-43fe-9ae7-230c95b4ff7a",
   "metadata": {},
   "outputs": [],
   "source": [
    "#####################################################################\n",
    "#\n",
    "# setup\n",
    "#\n",
    "#####################################################################"
   ]
  },
  {
   "cell_type": "code",
   "execution_count": null,
   "id": "21cbd310-0827-4f43-bca3-4cae8258f37d",
   "metadata": {},
   "outputs": [],
   "source": [
    "# imports for this notebook to run\n",
    "from google.cloud import aiplatform as vertex\n",
    "\n",
    "import kfp\n",
    "from kfp.v2 import dsl, compiler\n",
    "from kfp.v2.dsl import (Artifact, Dataset, Input, InputPath, Model, Output, OutputPath, component)"
   ]
  },
  {
   "cell_type": "code",
   "execution_count": null,
   "id": "18260571-afea-46ec-80dd-6c2acea0615d",
   "metadata": {},
   "outputs": [],
   "source": [
    "# specify parameters\n",
    "PROJECT_ID = \"your-project-id\"\n",
    "REGION = \"us-central1\"\n",
    "BUCKET_NAME = f\"bkt-{PROJECT_ID}-vpipelines\"\n",
    "BUCKET_PATH = f\"gs://{BUCKET_NAME}\"\n",
    "PIPELINE_ROOT = f\"{BUCKET_PATH}/pipeline_root\"\n",
    "PIPELINE_DATA = f\"{BUCKET_PATH}/data\""
   ]
  },
  {
   "cell_type": "code",
   "execution_count": null,
   "id": "15557632-c0b9-4d1f-bc31-f372d1b1baa1",
   "metadata": {},
   "outputs": [],
   "source": [
    "#####################################################################\n",
    "# BEGIN vertex pipelines\n",
    "#####################################################################"
   ]
  },
  {
   "cell_type": "code",
   "execution_count": null,
   "id": "2af13683-f1be-4b87-b716-b164598fd5d8",
   "metadata": {},
   "outputs": [],
   "source": [
    "#####################################################################\n",
    "#\n",
    "# create individual pipeline components, then specify the pipeline\n",
    "#\n",
    "#####################################################################"
   ]
  },
  {
   "cell_type": "code",
   "execution_count": null,
   "id": "b1d1fc2e-902e-4466-9e4d-f7aaa63db828",
   "metadata": {},
   "outputs": [],
   "source": [
    "# create a pipeline component\n",
    "@component(base_image=\"python:3.9\", output_component_file=\"step_1.yaml\")\n",
    "def step_1():\n",
    "    raise Exception(\"This task is broken!\")"
   ]
  },
  {
   "cell_type": "code",
   "execution_count": null,
   "id": "7f5e1a83-ed85-4032-a02d-8506f7e8d71d",
   "metadata": {},
   "outputs": [],
   "source": [
    "# define a pipeline\n",
    "@dsl.pipeline(name=\"my-pipeline-name\", description=\"my pipeline description\")\n",
    "def my_pipeline(project_id: str = PROJECT_ID):    \n",
    "    # specify the nodes in the pipeline\n",
    "    #step_1_task = step_1()\n",
    "    step_1_task = (step_1().set_retry(num_retries=10, backoff_duration=\"60s\", backoff_factor=2.0, backoff_max_duration=\"1000s\"))"
   ]
  },
  {
   "cell_type": "code",
   "execution_count": null,
   "id": "37e5f872-f0ce-4f08-8368-bd3405c1abc0",
   "metadata": {},
   "outputs": [],
   "source": [
    "#####################################################################\n",
    "#\n",
    "# compile and run the pipeline\n",
    "#\n",
    "#####################################################################"
   ]
  },
  {
   "cell_type": "code",
   "execution_count": null,
   "id": "6d53feea-c633-4134-97cb-1609089cd9fa",
   "metadata": {},
   "outputs": [],
   "source": [
    "# compile the pipeline\n",
    "my_package_path = 'my_vertex_pipeline_specification_file.json'\n",
    "compiler.Compiler().compile(pipeline_func=my_pipeline, package_path=my_package_path)"
   ]
  },
  {
   "cell_type": "code",
   "execution_count": null,
   "id": "27df00fe-d558-4043-89f1-13783f2aee35",
   "metadata": {},
   "outputs": [],
   "source": [
    "# run the pipeline\n",
    "vertex.init(project=PROJECT_ID)\n",
    "\n",
    "job = vertex.PipelineJob(\n",
    "    display_name = \"my-pipeline-job-name\",\n",
    "    template_path = my_package_path,\n",
    "    pipeline_root = PIPELINE_ROOT,\n",
    "    enable_caching = False\n",
    ")\n",
    "\n",
    "job.submit()"
   ]
  }
 ],
 "metadata": {
  "environment": {
   "kernel": "python3",
   "name": "common-cpu.m98",
   "type": "gcloud",
   "uri": "gcr.io/deeplearning-platform-release/base-cpu:m98"
  },
  "kernelspec": {
   "display_name": "Python 3",
   "language": "python",
   "name": "python3"
  },
  "language_info": {
   "codemirror_mode": {
    "name": "ipython",
    "version": 3
   },
   "file_extension": ".py",
   "mimetype": "text/x-python",
   "name": "python",
   "nbconvert_exporter": "python",
   "pygments_lexer": "ipython3",
   "version": "3.7.12"
  }
 },
 "nbformat": 4,
 "nbformat_minor": 5
}
