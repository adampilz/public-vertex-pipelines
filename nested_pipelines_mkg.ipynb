{
 "cells": [
  {
   "cell_type": "code",
   "execution_count": null,
   "id": "174852e1-b09f-4a94-a386-c3e1d78abce6",
   "metadata": {},
   "outputs": [],
   "source": []
  },
  {
   "cell_type": "code",
   "execution_count": 1,
   "id": "b618eed6-90e4-4a0d-be45-62969e316874",
   "metadata": {},
   "outputs": [],
   "source": [
    "# imports for this notebook to run\n",
    "import sys\n",
    "from datetime import datetime\n",
    "from typing import NamedTuple\n",
    "\n",
    "from google.cloud import aiplatform as vertex\n",
    "\n",
    "import kfp\n",
    "from kfp.v2 import dsl, compiler"
   ]
  },
  {
   "cell_type": "code",
   "execution_count": 2,
   "id": "58901625-5bfe-4a71-a228-a7bb87efd5e2",
   "metadata": {},
   "outputs": [],
   "source": [
    "# specify parameters\n",
    "P = ! gcloud config list --format 'value(core.project)'\n",
    "PROJECT_ID = P[0]\n",
    "P = ! gcloud projects list --filter=\"$(gcloud config get-value project)\" --format=\"value(PROJECT_NUMBER)\"\n",
    "PROJECT_NUMBER = P[0]\n",
    "REGION = \"us-central1\"\n",
    "SERVICE_ACCOUNT = f\"sa-vertex-pipelines@{PROJECT_ID}.iam.gserviceaccount.com\"\n",
    "\n",
    "# exercise details\n",
    "USE_CASE = \"nestedpipelines\"\n",
    "ML_FRAMEWORK = \"noml\"\n",
    "MODEL_TYPE = \"nomodel\"\n",
    "TIMESTAMP = datetime.now().strftime(\"%Y%m%d%H%M%S\")\n",
    "\n",
    "#-------------------\n",
    "# vertex pipeline\n",
    "#-------------------\n",
    "\n",
    "GCS_BUCKET_NAME = f\"bkt-{REGION}-{USE_CASE.lower()}\"\n",
    "GCS_BUCKET_PATH = f\"gs://{GCS_BUCKET_NAME}\"\n",
    "PIPELINE_ROOT_NAME = f\"{GCS_BUCKET_NAME}/pipeline_root\"\n",
    "PIPELINE_ROOT_PATH = f\"{GCS_BUCKET_PATH}/pipeline_root\"\n",
    "\n",
    "#-------------------\n",
    "# GCS source data\n",
    "#-------------------\n",
    "\n",
    "# master source data bucket\n",
    "GCS_DATA_SOURCE_BUCKET_NAME = f\"bkt-{REGION}-data\"\n",
    "GCS_DATA_SOURCE_BUCKET_PATH = f\"gs://{GCS_DATA_SOURCE_BUCKET_NAME}\"\n",
    "\n",
    "# training data table\n",
    "TABLE_TRAIN = \"tab_class_10inps_1krows_tes_3498.csv\"\n",
    "GCS_TRAIN_URI = f\"{GCS_DATA_SOURCE_BUCKET_PATH}/{TABLE_TRAIN}\""
   ]
  },
  {
   "cell_type": "code",
   "execution_count": null,
   "id": "7df9618d-0b73-40dc-a82d-5628810ad60c",
   "metadata": {},
   "outputs": [],
   "source": [
    "# create use case gcs bucket if needed\n",
    "! gsutil mb -p {PROJECT_ID} -c standard -l {REGION} {GCS_BUCKET_PATH}\n",
    "! gsutil ls -L -b {GCS_BUCKET_PATH}"
   ]
  },
  {
   "cell_type": "code",
   "execution_count": null,
   "id": "8e4e4421-0650-4bbb-8c38-70009d4fef11",
   "metadata": {},
   "outputs": [],
   "source": [
    "#####################################################################\n",
    "#\n",
    "# create pipeline components\n",
    "#\n",
    "#####################################################################"
   ]
  },
  {
   "cell_type": "code",
   "execution_count": 12,
   "id": "8a390b32-6bbb-4847-abd9-d7c1a4213f7e",
   "metadata": {},
   "outputs": [],
   "source": [
    "# create a pipeline components\n",
    "@dsl.component\n",
    "def print_dsuri(\n",
    "    dataset: dsl.Input[dsl.Dataset]\n",
    ") -> str:\n",
    "    return dataset.path"
   ]
  },
  {
   "cell_type": "code",
   "execution_count": 5,
   "id": "3bfd9eea-57d2-4427-bedf-980ca7f53fd5",
   "metadata": {},
   "outputs": [],
   "source": [
    "#####################################################################\n",
    "#\n",
    "# create pipelines\n",
    "#\n",
    "#####################################################################"
   ]
  },
  {
   "cell_type": "code",
   "execution_count": 13,
   "id": "38594ab5-1208-4d43-a389-f2f229d65011",
   "metadata": {},
   "outputs": [],
   "source": [
    "# inner pipeline\n",
    "@dsl.pipeline(name='inner-pipeline')\n",
    "def inner_pipeline(gcs_train_uri: str):\n",
    "    dataset_task = dsl.importer(\n",
    "        artifact_uri = gcs_train_uri,\n",
    "        artifact_class=dsl.Dataset,\n",
    "        reimport=True\n",
    "    )\n",
    "    \n",
    "    return dataset_task"
   ]
  },
  {
   "cell_type": "code",
   "execution_count": 14,
   "id": "eda186ef-0bda-4ff9-99d4-c41364ab8f9d",
   "metadata": {},
   "outputs": [],
   "source": [
    "# outter pipeline\n",
    "@dsl.pipeline(name='outter-pipeline')\n",
    "def my_pipeline(gcs_train_uri: str):\n",
    "    task_1 = inner_pipeline(gcs_train_uri)\n",
    "    task_2 = print_dsuri(task_1.output)\n",
    "    return task_2.output"
   ]
  },
  {
   "cell_type": "code",
   "execution_count": 15,
   "id": "47959732-e4a5-47dd-a248-f93310e5f8aa",
   "metadata": {},
   "outputs": [],
   "source": [
    "# compile the pipeline\n",
    "my_package_path = 'my_vertex_pipeline_specification_file.json'\n",
    "compiler.Compiler().compile(pipeline_func=my_pipeline, package_path=my_package_path)"
   ]
  },
  {
   "cell_type": "code",
   "execution_count": 26,
   "id": "9a1eb037-edbb-4a52-b413-c08624c353e7",
   "metadata": {},
   "outputs": [],
   "source": [
    "#####################################################################\n",
    "#\n",
    "# compile and run the pipeline\n",
    "#\n",
    "#####################################################################"
   ]
  },
  {
   "cell_type": "code",
   "execution_count": null,
   "id": "35f76713-48a0-4e23-88ac-e5229719b7b6",
   "metadata": {},
   "outputs": [],
   "source": [
    "# runtime parameters to pass to pipeline\n",
    "pipeline_params = { \"gcs_train_uri\" : GCS_TRAIN_URI\n",
    "                  }\n",
    "\n",
    "# run the pipeline\n",
    "vertex.init(project=PROJECT_ID)\n",
    "\n",
    "job = vertex.PipelineJob(\n",
    "    display_name = \"my-pipeline-job-name\",\n",
    "    template_path = my_package_path,\n",
    "    pipeline_root = PIPELINE_ROOT_PATH,\n",
    "    parameter_values = pipeline_params,\n",
    "    enable_caching = False\n",
    ")\n",
    "\n",
    "job.submit(service_account = f\"sa-vertex-pipelines@{PROJECT_ID}.iam.gserviceaccount.com\")"
   ]
  }
 ],
 "metadata": {
  "environment": {
   "kernel": "python3",
   "name": "common-cpu.m102",
   "type": "gcloud",
   "uri": "gcr.io/deeplearning-platform-release/base-cpu:m102"
  },
  "kernelspec": {
   "display_name": "Python 3",
   "language": "python",
   "name": "python3"
  },
  "language_info": {
   "codemirror_mode": {
    "name": "ipython",
    "version": 3
   },
   "file_extension": ".py",
   "mimetype": "text/x-python",
   "name": "python",
   "nbconvert_exporter": "python",
   "pygments_lexer": "ipython3",
   "version": "3.7.12"
  }
 },
 "nbformat": 4,
 "nbformat_minor": 5
}
